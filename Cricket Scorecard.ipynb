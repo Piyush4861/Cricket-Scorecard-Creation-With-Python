{
  "nbformat": 4,
  "nbformat_minor": 0,
  "metadata": {
    "colab": {
      "name": "Untitled1.ipynb",
      "provenance": []
    },
    "kernelspec": {
      "name": "python3",
      "display_name": "Python 3"
    },
    "language_info": {
      "name": "python"
    }
  },
  "cells": [
    {
      "cell_type": "code",
      "source": [
        "import pandas as pd\n",
        "import numpy as np"
      ],
      "metadata": {
        "id": "BdsWSzVnF3xI"
      },
      "execution_count": 7,
      "outputs": []
    },
    {
      "cell_type": "code",
      "source": [
        "mdf = pd.read_csv('matches.csv')"
      ],
      "metadata": {
        "id": "4XJ5-YFXGPYu"
      },
      "execution_count": 8,
      "outputs": []
    },
    {
      "cell_type": "code",
      "source": [
        "df = pd.read_csv('deliveries.csv')"
      ],
      "metadata": {
        "id": "fX2Lv_OSGUOy"
      },
      "execution_count": 9,
      "outputs": []
    },
    {
      "cell_type": "code",
      "source": [
        "df.head(5)"
      ],
      "metadata": {
        "colab": {
          "base_uri": "https://localhost:8080/",
          "height": 444
        },
        "id": "YCj2tDoiGXZX",
        "outputId": "7b900ca8-6626-4ad5-fa41-96b893873651"
      },
      "execution_count": 10,
      "outputs": [
        {
          "output_type": "execute_result",
          "data": {
            "text/plain": [
              "   match_id  inning         batting_team                 bowling_team  over  ball    batsman non_striker    bowler  is_super_over  wide_runs  bye_runs  legbye_runs  noball_runs  penalty_runs  batsman_runs  extra_runs  total_runs player_dismissed dismissal_kind fielder\n",
              "0  1         1       Sunrisers Hyderabad  Royal Challengers Bangalore  1.0   1.0   DA Warner  S Dhawan    TS Mills  0.0            0.0        0.0       0.0          0.0          0.0           0.0           0.0         0.0         NaN              NaN            NaN   \n",
              "1  1         1       Sunrisers Hyderabad  Royal Challengers Bangalore  1.0   2.0   DA Warner  S Dhawan    TS Mills  0.0            0.0        0.0       0.0          0.0          0.0           0.0           0.0         0.0         NaN              NaN            NaN   \n",
              "2  1         1       Sunrisers Hyderabad  Royal Challengers Bangalore  1.0   3.0   DA Warner  S Dhawan    TS Mills  0.0            0.0        0.0       0.0          0.0          0.0           4.0           0.0         4.0         NaN              NaN            NaN   \n",
              "3  1         1       Sunrisers Hyderabad  Royal Challengers Bangalore  1.0   4.0   DA Warner  S Dhawan    TS Mills  0.0            0.0        0.0       0.0          0.0          0.0           0.0           0.0         0.0         NaN              NaN            NaN   \n",
              "4  1         1       Sunrisers Hyderabad  Royal Challengers Bangalore  1.0   5.0   DA Warner  S Dhawan    TS Mills  0.0            2.0        0.0       0.0          0.0          0.0           0.0           2.0         2.0         NaN              NaN            NaN   "
            ],
            "text/html": [
              "\n",
              "  <div id=\"df-b9ba1c15-5b50-44b1-99fd-cca6fe790f1a\">\n",
              "    <div class=\"colab-df-container\">\n",
              "      <div>\n",
              "<style scoped>\n",
              "    .dataframe tbody tr th:only-of-type {\n",
              "        vertical-align: middle;\n",
              "    }\n",
              "\n",
              "    .dataframe tbody tr th {\n",
              "        vertical-align: top;\n",
              "    }\n",
              "\n",
              "    .dataframe thead th {\n",
              "        text-align: right;\n",
              "    }\n",
              "</style>\n",
              "<table border=\"1\" class=\"dataframe\">\n",
              "  <thead>\n",
              "    <tr style=\"text-align: right;\">\n",
              "      <th></th>\n",
              "      <th>match_id</th>\n",
              "      <th>inning</th>\n",
              "      <th>batting_team</th>\n",
              "      <th>bowling_team</th>\n",
              "      <th>over</th>\n",
              "      <th>ball</th>\n",
              "      <th>batsman</th>\n",
              "      <th>non_striker</th>\n",
              "      <th>bowler</th>\n",
              "      <th>is_super_over</th>\n",
              "      <th>wide_runs</th>\n",
              "      <th>bye_runs</th>\n",
              "      <th>legbye_runs</th>\n",
              "      <th>noball_runs</th>\n",
              "      <th>penalty_runs</th>\n",
              "      <th>batsman_runs</th>\n",
              "      <th>extra_runs</th>\n",
              "      <th>total_runs</th>\n",
              "      <th>player_dismissed</th>\n",
              "      <th>dismissal_kind</th>\n",
              "      <th>fielder</th>\n",
              "    </tr>\n",
              "  </thead>\n",
              "  <tbody>\n",
              "    <tr>\n",
              "      <th>0</th>\n",
              "      <td>1</td>\n",
              "      <td>1</td>\n",
              "      <td>Sunrisers Hyderabad</td>\n",
              "      <td>Royal Challengers Bangalore</td>\n",
              "      <td>1.0</td>\n",
              "      <td>1.0</td>\n",
              "      <td>DA Warner</td>\n",
              "      <td>S Dhawan</td>\n",
              "      <td>TS Mills</td>\n",
              "      <td>0.0</td>\n",
              "      <td>0.0</td>\n",
              "      <td>0.0</td>\n",
              "      <td>0.0</td>\n",
              "      <td>0.0</td>\n",
              "      <td>0.0</td>\n",
              "      <td>0.0</td>\n",
              "      <td>0.0</td>\n",
              "      <td>0.0</td>\n",
              "      <td>NaN</td>\n",
              "      <td>NaN</td>\n",
              "      <td>NaN</td>\n",
              "    </tr>\n",
              "    <tr>\n",
              "      <th>1</th>\n",
              "      <td>1</td>\n",
              "      <td>1</td>\n",
              "      <td>Sunrisers Hyderabad</td>\n",
              "      <td>Royal Challengers Bangalore</td>\n",
              "      <td>1.0</td>\n",
              "      <td>2.0</td>\n",
              "      <td>DA Warner</td>\n",
              "      <td>S Dhawan</td>\n",
              "      <td>TS Mills</td>\n",
              "      <td>0.0</td>\n",
              "      <td>0.0</td>\n",
              "      <td>0.0</td>\n",
              "      <td>0.0</td>\n",
              "      <td>0.0</td>\n",
              "      <td>0.0</td>\n",
              "      <td>0.0</td>\n",
              "      <td>0.0</td>\n",
              "      <td>0.0</td>\n",
              "      <td>NaN</td>\n",
              "      <td>NaN</td>\n",
              "      <td>NaN</td>\n",
              "    </tr>\n",
              "    <tr>\n",
              "      <th>2</th>\n",
              "      <td>1</td>\n",
              "      <td>1</td>\n",
              "      <td>Sunrisers Hyderabad</td>\n",
              "      <td>Royal Challengers Bangalore</td>\n",
              "      <td>1.0</td>\n",
              "      <td>3.0</td>\n",
              "      <td>DA Warner</td>\n",
              "      <td>S Dhawan</td>\n",
              "      <td>TS Mills</td>\n",
              "      <td>0.0</td>\n",
              "      <td>0.0</td>\n",
              "      <td>0.0</td>\n",
              "      <td>0.0</td>\n",
              "      <td>0.0</td>\n",
              "      <td>0.0</td>\n",
              "      <td>4.0</td>\n",
              "      <td>0.0</td>\n",
              "      <td>4.0</td>\n",
              "      <td>NaN</td>\n",
              "      <td>NaN</td>\n",
              "      <td>NaN</td>\n",
              "    </tr>\n",
              "    <tr>\n",
              "      <th>3</th>\n",
              "      <td>1</td>\n",
              "      <td>1</td>\n",
              "      <td>Sunrisers Hyderabad</td>\n",
              "      <td>Royal Challengers Bangalore</td>\n",
              "      <td>1.0</td>\n",
              "      <td>4.0</td>\n",
              "      <td>DA Warner</td>\n",
              "      <td>S Dhawan</td>\n",
              "      <td>TS Mills</td>\n",
              "      <td>0.0</td>\n",
              "      <td>0.0</td>\n",
              "      <td>0.0</td>\n",
              "      <td>0.0</td>\n",
              "      <td>0.0</td>\n",
              "      <td>0.0</td>\n",
              "      <td>0.0</td>\n",
              "      <td>0.0</td>\n",
              "      <td>0.0</td>\n",
              "      <td>NaN</td>\n",
              "      <td>NaN</td>\n",
              "      <td>NaN</td>\n",
              "    </tr>\n",
              "    <tr>\n",
              "      <th>4</th>\n",
              "      <td>1</td>\n",
              "      <td>1</td>\n",
              "      <td>Sunrisers Hyderabad</td>\n",
              "      <td>Royal Challengers Bangalore</td>\n",
              "      <td>1.0</td>\n",
              "      <td>5.0</td>\n",
              "      <td>DA Warner</td>\n",
              "      <td>S Dhawan</td>\n",
              "      <td>TS Mills</td>\n",
              "      <td>0.0</td>\n",
              "      <td>2.0</td>\n",
              "      <td>0.0</td>\n",
              "      <td>0.0</td>\n",
              "      <td>0.0</td>\n",
              "      <td>0.0</td>\n",
              "      <td>0.0</td>\n",
              "      <td>2.0</td>\n",
              "      <td>2.0</td>\n",
              "      <td>NaN</td>\n",
              "      <td>NaN</td>\n",
              "      <td>NaN</td>\n",
              "    </tr>\n",
              "  </tbody>\n",
              "</table>\n",
              "</div>\n",
              "      <button class=\"colab-df-convert\" onclick=\"convertToInteractive('df-b9ba1c15-5b50-44b1-99fd-cca6fe790f1a')\"\n",
              "              title=\"Convert this dataframe to an interactive table.\"\n",
              "              style=\"display:none;\">\n",
              "        \n",
              "  <svg xmlns=\"http://www.w3.org/2000/svg\" height=\"24px\"viewBox=\"0 0 24 24\"\n",
              "       width=\"24px\">\n",
              "    <path d=\"M0 0h24v24H0V0z\" fill=\"none\"/>\n",
              "    <path d=\"M18.56 5.44l.94 2.06.94-2.06 2.06-.94-2.06-.94-.94-2.06-.94 2.06-2.06.94zm-11 1L8.5 8.5l.94-2.06 2.06-.94-2.06-.94L8.5 2.5l-.94 2.06-2.06.94zm10 10l.94 2.06.94-2.06 2.06-.94-2.06-.94-.94-2.06-.94 2.06-2.06.94z\"/><path d=\"M17.41 7.96l-1.37-1.37c-.4-.4-.92-.59-1.43-.59-.52 0-1.04.2-1.43.59L10.3 9.45l-7.72 7.72c-.78.78-.78 2.05 0 2.83L4 21.41c.39.39.9.59 1.41.59.51 0 1.02-.2 1.41-.59l7.78-7.78 2.81-2.81c.8-.78.8-2.07 0-2.86zM5.41 20L4 18.59l7.72-7.72 1.47 1.35L5.41 20z\"/>\n",
              "  </svg>\n",
              "      </button>\n",
              "      \n",
              "  <style>\n",
              "    .colab-df-container {\n",
              "      display:flex;\n",
              "      flex-wrap:wrap;\n",
              "      gap: 12px;\n",
              "    }\n",
              "\n",
              "    .colab-df-convert {\n",
              "      background-color: #E8F0FE;\n",
              "      border: none;\n",
              "      border-radius: 50%;\n",
              "      cursor: pointer;\n",
              "      display: none;\n",
              "      fill: #1967D2;\n",
              "      height: 32px;\n",
              "      padding: 0 0 0 0;\n",
              "      width: 32px;\n",
              "    }\n",
              "\n",
              "    .colab-df-convert:hover {\n",
              "      background-color: #E2EBFA;\n",
              "      box-shadow: 0px 1px 2px rgba(60, 64, 67, 0.3), 0px 1px 3px 1px rgba(60, 64, 67, 0.15);\n",
              "      fill: #174EA6;\n",
              "    }\n",
              "\n",
              "    [theme=dark] .colab-df-convert {\n",
              "      background-color: #3B4455;\n",
              "      fill: #D2E3FC;\n",
              "    }\n",
              "\n",
              "    [theme=dark] .colab-df-convert:hover {\n",
              "      background-color: #434B5C;\n",
              "      box-shadow: 0px 1px 3px 1px rgba(0, 0, 0, 0.15);\n",
              "      filter: drop-shadow(0px 1px 2px rgba(0, 0, 0, 0.3));\n",
              "      fill: #FFFFFF;\n",
              "    }\n",
              "  </style>\n",
              "\n",
              "      <script>\n",
              "        const buttonEl =\n",
              "          document.querySelector('#df-b9ba1c15-5b50-44b1-99fd-cca6fe790f1a button.colab-df-convert');\n",
              "        buttonEl.style.display =\n",
              "          google.colab.kernel.accessAllowed ? 'block' : 'none';\n",
              "\n",
              "        async function convertToInteractive(key) {\n",
              "          const element = document.querySelector('#df-b9ba1c15-5b50-44b1-99fd-cca6fe790f1a');\n",
              "          const dataTable =\n",
              "            await google.colab.kernel.invokeFunction('convertToInteractive',\n",
              "                                                     [key], {});\n",
              "          if (!dataTable) return;\n",
              "\n",
              "          const docLinkHtml = 'Like what you see? Visit the ' +\n",
              "            '<a target=\"_blank\" href=https://colab.research.google.com/notebooks/data_table.ipynb>data table notebook</a>'\n",
              "            + ' to learn more about interactive tables.';\n",
              "          element.innerHTML = '';\n",
              "          dataTable['output_type'] = 'display_data';\n",
              "          await google.colab.output.renderOutput(dataTable, element);\n",
              "          const docLink = document.createElement('div');\n",
              "          docLink.innerHTML = docLinkHtml;\n",
              "          element.appendChild(docLink);\n",
              "        }\n",
              "      </script>\n",
              "    </div>\n",
              "  </div>\n",
              "  "
            ]
          },
          "metadata": {},
          "execution_count": 10
        }
      ]
    },
    {
      "cell_type": "code",
      "source": [
        "matchID = 1"
      ],
      "metadata": {
        "id": "G3CUz1MHGsqI"
      },
      "execution_count": 11,
      "outputs": []
    },
    {
      "cell_type": "code",
      "source": [
        "df = df[(df.match_id == 1) & (df.inning == 2)]"
      ],
      "metadata": {
        "id": "0t9msruvGuzS"
      },
      "execution_count": 12,
      "outputs": []
    },
    {
      "cell_type": "code",
      "source": [
        "df.player_dismissed.unique()"
      ],
      "metadata": {
        "colab": {
          "base_uri": "https://localhost:8080/"
        },
        "id": "9oeRIQ3oG4sf",
        "outputId": "70445031-55c0-4743-c1b4-621cf967e0df"
      },
      "execution_count": 13,
      "outputs": [
        {
          "output_type": "execute_result",
          "data": {
            "text/plain": [
              "array([nan, 'Mandeep Singh', 'CH Gayle', 'KM Jadhav', 'TM Head',\n",
              "       'Sachin Baby', 'STR Binny', 'SR Watson', 'S Aravind', 'TS Mills',\n",
              "       'YS Chahal'], dtype=object)"
            ]
          },
          "metadata": {},
          "execution_count": 13
        }
      ]
    },
    {
      "cell_type": "code",
      "source": [
        "players = list(df.batsman.unique())"
      ],
      "metadata": {
        "id": "SqLjERRbG93o"
      },
      "execution_count": 14,
      "outputs": []
    },
    {
      "cell_type": "code",
      "source": [
        "players"
      ],
      "metadata": {
        "colab": {
          "base_uri": "https://localhost:8080/"
        },
        "id": "TOZ6LoJdHBU6",
        "outputId": "fbc8599b-1425-4a79-9200-3445f9cae830"
      },
      "execution_count": 15,
      "outputs": [
        {
          "output_type": "execute_result",
          "data": {
            "text/plain": [
              "['CH Gayle',\n",
              " 'Mandeep Singh',\n",
              " 'TM Head',\n",
              " 'KM Jadhav',\n",
              " 'SR Watson',\n",
              " 'Sachin Baby',\n",
              " 'STR Binny',\n",
              " 'S Aravind',\n",
              " 'YS Chahal',\n",
              " 'TS Mills',\n",
              " 'A Choudhary']"
            ]
          },
          "metadata": {},
          "execution_count": 15
        }
      ]
    },
    {
      "cell_type": "code",
      "source": [
        "runs_ls = []\n",
        "balls_ls = []\n",
        "\n",
        "for player in players:\n",
        "    temp_df = df[df.batsman == player]\n",
        "    \n",
        "    if len(temp_df) > 0: \n",
        "        runs_ls.append(sum(temp_df.batsman_runs))\n",
        "        balls_ls.append(len(temp_df))\n",
        "    else:\n",
        "        runs_ls.append(0)\n",
        "        balls_ls.append(0)"
      ],
      "metadata": {
        "id": "c_ThnnNfHMVH"
      },
      "execution_count": 16,
      "outputs": []
    },
    {
      "cell_type": "code",
      "source": [
        "players_dismissed = list(df.player_dismissed.unique())"
      ],
      "metadata": {
        "id": "0Up8TB8bHSqq"
      },
      "execution_count": 17,
      "outputs": []
    },
    {
      "cell_type": "code",
      "source": [
        "players_dismissed"
      ],
      "metadata": {
        "colab": {
          "base_uri": "https://localhost:8080/"
        },
        "id": "7_p6Yoc_HVe9",
        "outputId": "c1974c76-550d-4606-9154-17ef00a1b754"
      },
      "execution_count": 18,
      "outputs": [
        {
          "output_type": "execute_result",
          "data": {
            "text/plain": [
              "[nan,\n",
              " 'Mandeep Singh',\n",
              " 'CH Gayle',\n",
              " 'KM Jadhav',\n",
              " 'TM Head',\n",
              " 'Sachin Baby',\n",
              " 'STR Binny',\n",
              " 'SR Watson',\n",
              " 'S Aravind',\n",
              " 'TS Mills',\n",
              " 'YS Chahal']"
            ]
          },
          "metadata": {},
          "execution_count": 18
        }
      ]
    },
    {
      "cell_type": "code",
      "source": [
        "players"
      ],
      "metadata": {
        "colab": {
          "base_uri": "https://localhost:8080/"
        },
        "id": "FRwHEqKbHZLu",
        "outputId": "68e85490-10da-436a-f944-7da873d0526b"
      },
      "execution_count": 19,
      "outputs": [
        {
          "output_type": "execute_result",
          "data": {
            "text/plain": [
              "['CH Gayle',\n",
              " 'Mandeep Singh',\n",
              " 'TM Head',\n",
              " 'KM Jadhav',\n",
              " 'SR Watson',\n",
              " 'Sachin Baby',\n",
              " 'STR Binny',\n",
              " 'S Aravind',\n",
              " 'YS Chahal',\n",
              " 'TS Mills',\n",
              " 'A Choudhary']"
            ]
          },
          "metadata": {},
          "execution_count": 19
        }
      ]
    },
    {
      "cell_type": "code",
      "source": [
        "df.dismissal_kind.unique()"
      ],
      "metadata": {
        "colab": {
          "base_uri": "https://localhost:8080/"
        },
        "id": "nEohxNhgHcZV",
        "outputId": "06da03be-8270-49eb-98ab-f110ac400038"
      },
      "execution_count": 20,
      "outputs": [
        {
          "output_type": "execute_result",
          "data": {
            "text/plain": [
              "array([nan, 'bowled', 'caught', 'run out'], dtype=object)"
            ]
          },
          "metadata": {},
          "execution_count": 20
        }
      ]
    },
    {
      "cell_type": "code",
      "source": [
        "out_no_ls = []\n",
        "fielder_ls = []\n",
        "bowler_ls = []\n",
        "\n",
        "for player in players:\n",
        "    if player in players_dismissed:\n",
        "        out_no_ls.append('out')\n",
        "        temp_df = df[df.player_dismissed == player]\n",
        "        out_type = temp_df['dismissal_kind'].item()\n",
        "        \n",
        "        if out_type == 'caught':\n",
        "            fielder_ls.append(temp_df['fielder'].item())\n",
        "            bowler_ls.append(temp_df['bowler'].item())\n",
        "        elif out_type == 'bowled':\n",
        "            fielder_ls.append('')\n",
        "            bowler_ls.append(temp_df['bowler'].item())\n",
        "        else:\n",
        "            fielder_ls.append( 'runout' + '(' + str(temp_df['fielder'].item()) + ')')\n",
        "            bowler_ls.append('')\n",
        "        \n",
        "    else:\n",
        "        out_no_ls.append('no')\n",
        "        fielder_ls.append('')\n",
        "        bowler_ls.append('')"
      ],
      "metadata": {
        "id": "Gy-ppJnCHgsw"
      },
      "execution_count": 21,
      "outputs": []
    },
    {
      "cell_type": "code",
      "source": [
        "out_no_ls, fielder_ls, bowler_ls"
      ],
      "metadata": {
        "colab": {
          "base_uri": "https://localhost:8080/"
        },
        "id": "67INKI9oHkDO",
        "outputId": "96e0ff25-5138-4706-fbf7-50f90e4ed732"
      },
      "execution_count": 22,
      "outputs": [
        {
          "output_type": "execute_result",
          "data": {
            "text/plain": [
              "(['out', 'out', 'out', 'out', 'out', 'out', 'out', 'out', 'out', 'out', 'no'],\n",
              " ['DA Warner',\n",
              "  '',\n",
              "  'Yuvraj Singh',\n",
              "  'runout(BCJ Cutting)',\n",
              "  'MC Henriques',\n",
              "  'MC Henriques',\n",
              "  'Yuvraj Singh',\n",
              "  '',\n",
              "  'runout(CJ Jordan (sub))',\n",
              "  'DA Warner',\n",
              "  ''],\n",
              " ['DJ Hooda',\n",
              "  'Rashid Khan',\n",
              "  'Rashid Khan',\n",
              "  '',\n",
              "  'A Nehra',\n",
              "  'Bipul Sharma',\n",
              "  'B Kumar',\n",
              "  'A Nehra',\n",
              "  '',\n",
              "  'B Kumar',\n",
              "  ''])"
            ]
          },
          "metadata": {},
          "execution_count": 22
        }
      ]
    },
    {
      "cell_type": "code",
      "source": [
        "runs_balls_list = []\n",
        "\n",
        "for i in range(len(players)):\n",
        "    if out_no_ls[i] == 'no':\n",
        "        runs_balls_list.append( str(runs_ls[i]) + '*' + ' (' + str(balls_ls[i]) + ' )' )\n",
        "    else:\n",
        "        runs_balls_list.append( str(runs_ls[i]) + ' (' + str(balls_ls[i]) + ' )' )     "
      ],
      "metadata": {
        "id": "TLxeAfZsHqYR"
      },
      "execution_count": 23,
      "outputs": []
    },
    {
      "cell_type": "code",
      "source": [
        "for i in range(len(players)):\n",
        "    print(players[i], ' ', fielder_ls[i], bowler_ls[i], runs_balls_list[i])"
      ],
      "metadata": {
        "colab": {
          "base_uri": "https://localhost:8080/"
        },
        "id": "xatDeyFOHt-S",
        "outputId": "52870f4f-232d-43c1-8f5d-5829ca7ba77c"
      },
      "execution_count": 24,
      "outputs": [
        {
          "output_type": "stream",
          "name": "stdout",
          "text": [
            "CH Gayle   DA Warner DJ Hooda 32.0 (23 )\n",
            "Mandeep Singh    Rashid Khan 24.0 (16 )\n",
            "TM Head   Yuvraj Singh Rashid Khan 30.0 (22 )\n",
            "KM Jadhav   runout(BCJ Cutting)  31.0 (18 )\n",
            "SR Watson   MC Henriques A Nehra 22.0 (17 )\n",
            "Sachin Baby   MC Henriques Bipul Sharma 1.0 (3 )\n",
            "STR Binny   Yuvraj Singh B Kumar 11.0 (10 )\n",
            "S Aravind    A Nehra 0.0 (2 )\n",
            "YS Chahal   runout(CJ Jordan (sub))  3.0 (7 )\n",
            "TS Mills   DA Warner B Kumar 6.0 (3 )\n",
            "A Choudhary     6.0* (2 )\n"
          ]
        }
      ]
    },
    {
      "cell_type": "code",
      "source": [
        "scorecard_dict = {'player':players, 'fielder':fielder_ls, 'bowler':bowler_ls, 'runs':runs_balls_list}"
      ],
      "metadata": {
        "id": "GJexiUjzH0dP"
      },
      "execution_count": 25,
      "outputs": []
    },
    {
      "cell_type": "code",
      "source": [
        "pd.DataFrame(scorecard_dict)"
      ],
      "metadata": {
        "colab": {
          "base_uri": "https://localhost:8080/",
          "height": 394
        },
        "id": "R3KBo8uWH3X7",
        "outputId": "9984c403-0522-454f-84cc-cc7daf954766"
      },
      "execution_count": 29,
      "outputs": [
        {
          "output_type": "execute_result",
          "data": {
            "text/plain": [
              "           player                  fielder        bowler        runs\n",
              "0   CH Gayle       DA Warner                DJ Hooda      32.0 (23 )\n",
              "1   Mandeep Singh                           Rashid Khan   24.0 (16 )\n",
              "2   TM Head        Yuvraj Singh             Rashid Khan   30.0 (22 )\n",
              "3   KM Jadhav      runout(BCJ Cutting)                    31.0 (18 )\n",
              "4   SR Watson      MC Henriques             A Nehra       22.0 (17 )\n",
              "5   Sachin Baby    MC Henriques             Bipul Sharma  1.0 (3 )  \n",
              "6   STR Binny      Yuvraj Singh             B Kumar       11.0 (10 )\n",
              "7   S Aravind                               A Nehra       0.0 (2 )  \n",
              "8   YS Chahal      runout(CJ Jordan (sub))                3.0 (7 )  \n",
              "9   TS Mills       DA Warner                B Kumar       6.0 (3 )  \n",
              "10  A Choudhary                                           6.0* (2 ) "
            ],
            "text/html": [
              "\n",
              "  <div id=\"df-7f1db136-f4f4-42c4-9dc2-b67f6cf3393d\">\n",
              "    <div class=\"colab-df-container\">\n",
              "      <div>\n",
              "<style scoped>\n",
              "    .dataframe tbody tr th:only-of-type {\n",
              "        vertical-align: middle;\n",
              "    }\n",
              "\n",
              "    .dataframe tbody tr th {\n",
              "        vertical-align: top;\n",
              "    }\n",
              "\n",
              "    .dataframe thead th {\n",
              "        text-align: right;\n",
              "    }\n",
              "</style>\n",
              "<table border=\"1\" class=\"dataframe\">\n",
              "  <thead>\n",
              "    <tr style=\"text-align: right;\">\n",
              "      <th></th>\n",
              "      <th>player</th>\n",
              "      <th>fielder</th>\n",
              "      <th>bowler</th>\n",
              "      <th>runs</th>\n",
              "    </tr>\n",
              "  </thead>\n",
              "  <tbody>\n",
              "    <tr>\n",
              "      <th>0</th>\n",
              "      <td>CH Gayle</td>\n",
              "      <td>DA Warner</td>\n",
              "      <td>DJ Hooda</td>\n",
              "      <td>32.0 (23 )</td>\n",
              "    </tr>\n",
              "    <tr>\n",
              "      <th>1</th>\n",
              "      <td>Mandeep Singh</td>\n",
              "      <td></td>\n",
              "      <td>Rashid Khan</td>\n",
              "      <td>24.0 (16 )</td>\n",
              "    </tr>\n",
              "    <tr>\n",
              "      <th>2</th>\n",
              "      <td>TM Head</td>\n",
              "      <td>Yuvraj Singh</td>\n",
              "      <td>Rashid Khan</td>\n",
              "      <td>30.0 (22 )</td>\n",
              "    </tr>\n",
              "    <tr>\n",
              "      <th>3</th>\n",
              "      <td>KM Jadhav</td>\n",
              "      <td>runout(BCJ Cutting)</td>\n",
              "      <td></td>\n",
              "      <td>31.0 (18 )</td>\n",
              "    </tr>\n",
              "    <tr>\n",
              "      <th>4</th>\n",
              "      <td>SR Watson</td>\n",
              "      <td>MC Henriques</td>\n",
              "      <td>A Nehra</td>\n",
              "      <td>22.0 (17 )</td>\n",
              "    </tr>\n",
              "    <tr>\n",
              "      <th>5</th>\n",
              "      <td>Sachin Baby</td>\n",
              "      <td>MC Henriques</td>\n",
              "      <td>Bipul Sharma</td>\n",
              "      <td>1.0 (3 )</td>\n",
              "    </tr>\n",
              "    <tr>\n",
              "      <th>6</th>\n",
              "      <td>STR Binny</td>\n",
              "      <td>Yuvraj Singh</td>\n",
              "      <td>B Kumar</td>\n",
              "      <td>11.0 (10 )</td>\n",
              "    </tr>\n",
              "    <tr>\n",
              "      <th>7</th>\n",
              "      <td>S Aravind</td>\n",
              "      <td></td>\n",
              "      <td>A Nehra</td>\n",
              "      <td>0.0 (2 )</td>\n",
              "    </tr>\n",
              "    <tr>\n",
              "      <th>8</th>\n",
              "      <td>YS Chahal</td>\n",
              "      <td>runout(CJ Jordan (sub))</td>\n",
              "      <td></td>\n",
              "      <td>3.0 (7 )</td>\n",
              "    </tr>\n",
              "    <tr>\n",
              "      <th>9</th>\n",
              "      <td>TS Mills</td>\n",
              "      <td>DA Warner</td>\n",
              "      <td>B Kumar</td>\n",
              "      <td>6.0 (3 )</td>\n",
              "    </tr>\n",
              "    <tr>\n",
              "      <th>10</th>\n",
              "      <td>A Choudhary</td>\n",
              "      <td></td>\n",
              "      <td></td>\n",
              "      <td>6.0* (2 )</td>\n",
              "    </tr>\n",
              "  </tbody>\n",
              "</table>\n",
              "</div>\n",
              "      <button class=\"colab-df-convert\" onclick=\"convertToInteractive('df-7f1db136-f4f4-42c4-9dc2-b67f6cf3393d')\"\n",
              "              title=\"Convert this dataframe to an interactive table.\"\n",
              "              style=\"display:none;\">\n",
              "        \n",
              "  <svg xmlns=\"http://www.w3.org/2000/svg\" height=\"24px\"viewBox=\"0 0 24 24\"\n",
              "       width=\"24px\">\n",
              "    <path d=\"M0 0h24v24H0V0z\" fill=\"none\"/>\n",
              "    <path d=\"M18.56 5.44l.94 2.06.94-2.06 2.06-.94-2.06-.94-.94-2.06-.94 2.06-2.06.94zm-11 1L8.5 8.5l.94-2.06 2.06-.94-2.06-.94L8.5 2.5l-.94 2.06-2.06.94zm10 10l.94 2.06.94-2.06 2.06-.94-2.06-.94-.94-2.06-.94 2.06-2.06.94z\"/><path d=\"M17.41 7.96l-1.37-1.37c-.4-.4-.92-.59-1.43-.59-.52 0-1.04.2-1.43.59L10.3 9.45l-7.72 7.72c-.78.78-.78 2.05 0 2.83L4 21.41c.39.39.9.59 1.41.59.51 0 1.02-.2 1.41-.59l7.78-7.78 2.81-2.81c.8-.78.8-2.07 0-2.86zM5.41 20L4 18.59l7.72-7.72 1.47 1.35L5.41 20z\"/>\n",
              "  </svg>\n",
              "      </button>\n",
              "      \n",
              "  <style>\n",
              "    .colab-df-container {\n",
              "      display:flex;\n",
              "      flex-wrap:wrap;\n",
              "      gap: 12px;\n",
              "    }\n",
              "\n",
              "    .colab-df-convert {\n",
              "      background-color: #E8F0FE;\n",
              "      border: none;\n",
              "      border-radius: 50%;\n",
              "      cursor: pointer;\n",
              "      display: none;\n",
              "      fill: #1967D2;\n",
              "      height: 32px;\n",
              "      padding: 0 0 0 0;\n",
              "      width: 32px;\n",
              "    }\n",
              "\n",
              "    .colab-df-convert:hover {\n",
              "      background-color: #E2EBFA;\n",
              "      box-shadow: 0px 1px 2px rgba(60, 64, 67, 0.3), 0px 1px 3px 1px rgba(60, 64, 67, 0.15);\n",
              "      fill: #174EA6;\n",
              "    }\n",
              "\n",
              "    [theme=dark] .colab-df-convert {\n",
              "      background-color: #3B4455;\n",
              "      fill: #D2E3FC;\n",
              "    }\n",
              "\n",
              "    [theme=dark] .colab-df-convert:hover {\n",
              "      background-color: #434B5C;\n",
              "      box-shadow: 0px 1px 3px 1px rgba(0, 0, 0, 0.15);\n",
              "      filter: drop-shadow(0px 1px 2px rgba(0, 0, 0, 0.3));\n",
              "      fill: #FFFFFF;\n",
              "    }\n",
              "  </style>\n",
              "\n",
              "      <script>\n",
              "        const buttonEl =\n",
              "          document.querySelector('#df-7f1db136-f4f4-42c4-9dc2-b67f6cf3393d button.colab-df-convert');\n",
              "        buttonEl.style.display =\n",
              "          google.colab.kernel.accessAllowed ? 'block' : 'none';\n",
              "\n",
              "        async function convertToInteractive(key) {\n",
              "          const element = document.querySelector('#df-7f1db136-f4f4-42c4-9dc2-b67f6cf3393d');\n",
              "          const dataTable =\n",
              "            await google.colab.kernel.invokeFunction('convertToInteractive',\n",
              "                                                     [key], {});\n",
              "          if (!dataTable) return;\n",
              "\n",
              "          const docLinkHtml = 'Like what you see? Visit the ' +\n",
              "            '<a target=\"_blank\" href=https://colab.research.google.com/notebooks/data_table.ipynb>data table notebook</a>'\n",
              "            + ' to learn more about interactive tables.';\n",
              "          element.innerHTML = '';\n",
              "          dataTable['output_type'] = 'display_data';\n",
              "          await google.colab.output.renderOutput(dataTable, element);\n",
              "          const docLink = document.createElement('div');\n",
              "          docLink.innerHTML = docLinkHtml;\n",
              "          element.appendChild(docLink);\n",
              "        }\n",
              "      </script>\n",
              "    </div>\n",
              "  </div>\n",
              "  "
            ]
          },
          "metadata": {},
          "execution_count": 29
        }
      ]
    },
    {
      "cell_type": "code",
      "source": [
        "scorecard_df = pd.DataFrame(scorecard_dict)"
      ],
      "metadata": {
        "id": "4iCMJvg1IBMu"
      },
      "execution_count": 27,
      "outputs": []
    },
    {
      "cell_type": "code",
      "source": [
        "scorecard_df.to_csv('scorecard.csv')"
      ],
      "metadata": {
        "id": "Z2VINecUIEHn"
      },
      "execution_count": 28,
      "outputs": []
    }
  ]
}